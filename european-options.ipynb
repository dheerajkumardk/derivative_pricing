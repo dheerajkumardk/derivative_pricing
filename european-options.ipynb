{
 "cells": [
  {
   "cell_type": "markdown",
   "id": "9fcef540-4785-4aa5-b5c2-bac1e83748ff",
   "metadata": {},
   "source": [
    "# Derivatives Pricing - European Options"
   ]
  },
  {
   "cell_type": "markdown",
   "id": "7c28fb34",
   "metadata": {},
   "source": [
    "In order to price derivatives, it is first important to understand how the price of the underlying asset evolves over time.\n",
    "At any time, there are two movements possible for the price. Either it may go up, or it may go down.\n",
    "\n",
    "Below, we'll try to model the price of an underlying using the binomial tree model."
   ]
  },
  {
   "cell_type": "markdown",
   "id": "d55a015a-2c84-4615-94bd-b7f624df786b",
   "metadata": {},
   "source": [
    "## Writing a function to construct a binomial tree"
   ]
  },
  {
   "cell_type": "code",
   "execution_count": 35,
   "id": "0652abe7-d8b1-49de-85c9-25800b3bc6e3",
   "metadata": {},
   "outputs": [],
   "source": [
    "import numpy as np"
   ]
  },
  {
   "cell_type": "code",
   "execution_count": 36,
   "id": "b1b24326-59aa-4137-b28e-a022fe5f2906",
   "metadata": {},
   "outputs": [],
   "source": [
    "# Stock price, S_ini\n",
    "# Strike price, K\n",
    "# Upward movement, u\n",
    "# Downward movement, d\n",
    "# Time horizon, T\n",
    "# No. of steps in the binomial tree = N\n",
    "# Risk-free rate, r"
   ]
  },
  {
   "cell_type": "code",
   "execution_count": 37,
   "id": "85a25812-589b-49f8-896d-47ceba79ee22",
   "metadata": {},
   "outputs": [],
   "source": [
    "def binomial_tree(S_ini, T, u, d, N):\n",
    "    S = np.zeros([N+1, N+1]) # Underlying prices\n",
    "    for i in range(N+1):\n",
    "        S[N, i] = S_ini * (u ** i) * (d ** (N-i))\n",
    "\n",
    "    for j in range(N-1, -1, -1):\n",
    "        for i in range(0, j+1):\n",
    "            S[j, i] = S_ini * (u ** i) * (d ** (j-i))\n",
    "    return S"
   ]
  },
  {
   "cell_type": "markdown",
   "id": "ecf4f1c9",
   "metadata": {},
   "source": [
    "Let's see the evolution of the price of the underlying if current price is 100, u = 1.2, d = 0.8. Time duration is 1 year and Number of steps, N = 4"
   ]
  },
  {
   "cell_type": "code",
   "execution_count": 38,
   "id": "698d65a1-abfd-49f5-969a-e293593ef95c",
   "metadata": {},
   "outputs": [
    {
     "data": {
      "text/plain": [
       "array([[100.  ,   0.  ,   0.  ,   0.  ,   0.  ],\n",
       "       [ 80.  , 120.  ,   0.  ,   0.  ,   0.  ],\n",
       "       [ 64.  ,  96.  , 144.  ,   0.  ,   0.  ],\n",
       "       [ 51.2 ,  76.8 , 115.2 , 172.8 ,   0.  ],\n",
       "       [ 40.96,  61.44,  92.16, 138.24, 207.36]])"
      ]
     },
     "execution_count": 38,
     "metadata": {},
     "output_type": "execute_result"
    }
   ],
   "source": [
    "stock = binomial_tree(100, 1, 1.2, 0.8, 4)\n",
    "stock"
   ]
  },
  {
   "cell_type": "markdown",
   "id": "7291b9b4-7e6e-4fcf-8e7b-1662b1957987",
   "metadata": {},
   "source": [
    "## Adding Call Option Payoffs in the binomial Tree"
   ]
  },
  {
   "cell_type": "markdown",
   "id": "a72f379b",
   "metadata": {},
   "source": [
    "Let's now extend the above function to compute payoffs of an European call option at maturity."
   ]
  },
  {
   "cell_type": "code",
   "execution_count": 39,
   "id": "b85891b6-62f6-4f60-a2dc-f991463ca78e",
   "metadata": {},
   "outputs": [],
   "source": [
    "def binomial_tree_call(S_ini, K, T, u, d, N):\n",
    "    C = np.zeros([N+1, N+1]) # Call prices\n",
    "    S = np.zeros([N+1, N+1]) # Underlying prices\n",
    "    for i in range(N+1):\n",
    "        C[N, i] = max((S_ini * (u ** i) * (d ** (N-i))) - K, 0)\n",
    "        S[N, i] = S_ini * (u ** i) * (d ** (N-i))\n",
    "\n",
    "    for j in range(N-1, -1, -1):\n",
    "        for i in range(0, j+1):\n",
    "            S[j, i] = S_ini * (u ** i) * (d ** (j-i))\n",
    "    return (S, C)"
   ]
  },
  {
   "cell_type": "code",
   "execution_count": 40,
   "id": "37237a2b-a558-4e26-ba58-6874b17f8c92",
   "metadata": {},
   "outputs": [
    {
     "name": "stdout",
     "output_type": "stream",
     "text": [
      "Underlying Price Evolution [[100.   0.   0.]\n",
      " [ 80. 120.   0.]\n",
      " [ 64.  96. 144.]]\n",
      "Call option payoff [[ 0.  0.  0.]\n",
      " [ 0.  0.  0.]\n",
      " [ 0.  6. 54.]]\n"
     ]
    }
   ],
   "source": [
    "stock, call = binomial_tree_call(100, 90, 10, 1.2, 0.8, 2)\n",
    "print(\"Underlying Price Evolution\", stock)\n",
    "print(\"Call option payoff\", call)"
   ]
  },
  {
   "cell_type": "markdown",
   "id": "fd6d8d29-6fb0-4512-873f-1b46e02ff21f",
   "metadata": {},
   "source": [
    "## Adding risk-neutral probabilities and backward induction of call option value"
   ]
  },
  {
   "cell_type": "markdown",
   "id": "4a26b97b",
   "metadata": {},
   "source": [
    "Once we know the risk-neutral probabilities, we can calculate the value of the call option at each node by backward induction. The value of the call option at any node depends on the expected payoffs of future scenarios (an upward movement and a downward movement) which is then discounted at the risk-free rate."
   ]
  },
  {
   "cell_type": "markdown",
   "id": "6949a628-efe4-4dab-b57f-b8a30f513751",
   "metadata": {},
   "source": [
    "$C_{t}= e^{-rdt}[p c_{t+1}^u + (1-p) c_{t+1}^d]$"
   ]
  },
  {
   "cell_type": "markdown",
   "id": "3636af6b",
   "metadata": {},
   "source": [
    "Here, dt is the discounted time period or the time-step."
   ]
  },
  {
   "cell_type": "code",
   "execution_count": 41,
   "id": "1c0727a6-9335-429e-b199-c5e69c2e0916",
   "metadata": {},
   "outputs": [],
   "source": [
    "def binomial_tree_full(S_ini, K, T, r, u, d, N):\n",
    "    dt = T / N # Time step\n",
    "    p = (np.exp(r*dt) - d) / (u - d) # risk-neutral probability\n",
    "    C = np.zeros([N+1, N+1]) # Call option prices\n",
    "    S = np.zeros([N+1, N+1]) # Underlying price\n",
    "\n",
    "    for i in range(N+1):\n",
    "        C[N,i] = max(S_ini * (u**i) * (d ** (N-i))- K, 0)\n",
    "        S[N,i] = S_ini * (u**i) * (d ** (N-i))\n",
    "\n",
    "    for j in range(N-1, -1, -1):\n",
    "        for i in range(0, j+1):\n",
    "            S[j,i] = S_ini * (u**i) * (d**(j-i))\n",
    "            C[j, i] = np.exp(-r * dt) * (p * C[j+1, i+1] + (1-p) * C[j+1, i])\n",
    "    return C[0,0], C,S"
   ]
  },
  {
   "cell_type": "code",
   "execution_count": 42,
   "id": "71696eb0-0e41-47cd-9430-45bb9013d7f8",
   "metadata": {},
   "outputs": [
    {
     "name": "stdout",
     "output_type": "stream",
     "text": [
      "Underlying price evolution:  [[100.           0.           0.           0.           0.\n",
      "    0.           0.           0.           0.           0.\n",
      "    0.        ]\n",
      " [ 80.         120.           0.           0.           0.\n",
      "    0.           0.           0.           0.           0.\n",
      "    0.        ]\n",
      " [ 64.          96.         144.           0.           0.\n",
      "    0.           0.           0.           0.           0.\n",
      "    0.        ]\n",
      " [ 51.2         76.8        115.2        172.8          0.\n",
      "    0.           0.           0.           0.           0.\n",
      "    0.        ]\n",
      " [ 40.96        61.44        92.16       138.24       207.36\n",
      "    0.           0.           0.           0.           0.\n",
      "    0.        ]\n",
      " [ 32.768       49.152       73.728      110.592      165.888\n",
      "  248.832        0.           0.           0.           0.\n",
      "    0.        ]\n",
      " [ 26.2144      39.3216      58.9824      88.4736     132.7104\n",
      "  199.0656     298.5984       0.           0.           0.\n",
      "    0.        ]\n",
      " [ 20.97152     31.45728     47.18592     70.77888    106.16832\n",
      "  159.25248    238.87872    358.31808      0.           0.\n",
      "    0.        ]\n",
      " [ 16.777216    25.165824    37.748736    56.623104    84.934656\n",
      "  127.401984   191.102976   286.654464   429.981696     0.\n",
      "    0.        ]\n",
      " [ 13.4217728   20.1326592   30.1989888   45.2984832   67.9477248\n",
      "  101.9215872  152.8823808  229.3235712  343.9853568  515.9780352\n",
      "    0.        ]\n",
      " [ 10.73741824  16.10612736  24.15919104  36.23878656  54.35817984\n",
      "   81.53726976 122.30590464 183.45885696 275.18828544 412.78242816\n",
      "  619.17364224]]\n",
      "Call Option Payoff:  [[2.93845445e+01 0.00000000e+00 0.00000000e+00 0.00000000e+00\n",
      "  0.00000000e+00 0.00000000e+00 0.00000000e+00 0.00000000e+00\n",
      "  0.00000000e+00 0.00000000e+00 0.00000000e+00]\n",
      " [1.57572106e+01 4.30118784e+01 0.00000000e+00 0.00000000e+00\n",
      "  0.00000000e+00 0.00000000e+00 0.00000000e+00 0.00000000e+00\n",
      "  0.00000000e+00 0.00000000e+00 0.00000000e+00]\n",
      " [7.17743934e+00 2.43369819e+01 6.16867749e+01 0.00000000e+00\n",
      "  0.00000000e+00 0.00000000e+00 0.00000000e+00 0.00000000e+00\n",
      "  0.00000000e+00 0.00000000e+00 0.00000000e+00]\n",
      " [2.49687648e+00 1.18580022e+01 3.68159616e+01 8.65575882e+01\n",
      "  0.00000000e+00 0.00000000e+00 0.00000000e+00 0.00000000e+00\n",
      "  0.00000000e+00 0.00000000e+00 0.00000000e+00]\n",
      " [5.04779760e-01 4.48897320e+00 1.92270312e+01 5.44048920e+01\n",
      "  1.18710284e+02 0.00000000e+00 0.00000000e+00 0.00000000e+00\n",
      "  0.00000000e+00 0.00000000e+00 0.00000000e+00]\n",
      " [0.00000000e+00 1.00955952e+00 7.96838688e+00 3.04856755e+01\n",
      "  7.83241085e+01 1.59096460e+02 0.00000000e+00 0.00000000e+00\n",
      "  0.00000000e+00 0.00000000e+00 0.00000000e+00]\n",
      " [0.00000000e+00 0.00000000e+00 2.01911904e+00 1.39176547e+01\n",
      "  4.70536963e+01 1.09594521e+02 2.08598400e+02 0.00000000e+00\n",
      "  0.00000000e+00 0.00000000e+00 0.00000000e+00]\n",
      " [0.00000000e+00 0.00000000e+00 0.00000000e+00 4.03823808e+00\n",
      "  2.37970714e+01 7.03103213e+01 1.48878720e+02 2.68318080e+02\n",
      "  0.00000000e+00 0.00000000e+00 0.00000000e+00]\n",
      " [0.00000000e+00 0.00000000e+00 0.00000000e+00 0.00000000e+00\n",
      "  8.07647616e+00 3.95176666e+01 1.01102976e+02 1.96654464e+02\n",
      "  3.39981696e+02 0.00000000e+00 0.00000000e+00]\n",
      " [0.00000000e+00 0.00000000e+00 0.00000000e+00 0.00000000e+00\n",
      "  0.00000000e+00 1.61529523e+01 6.28823808e+01 1.39323571e+02\n",
      "  2.53985357e+02 4.25978035e+02 0.00000000e+00]\n",
      " [0.00000000e+00 0.00000000e+00 0.00000000e+00 0.00000000e+00\n",
      "  0.00000000e+00 0.00000000e+00 3.23059046e+01 9.34588570e+01\n",
      "  1.85188285e+02 3.22782428e+02 5.29173642e+02]]\n",
      "Call option price at t=0:  29.38\n"
     ]
    }
   ],
   "source": [
    "call_price, C, S = binomial_tree_full(100, 90, 10, 0, 1.2, 0.8, 10)\n",
    "print(\"Underlying price evolution: \", S)\n",
    "print(\"Call Option Payoff: \", C)\n",
    "print(\"Call option price at t=0: \", \"{:.2f}\".format(call_price))"
   ]
  },
  {
   "cell_type": "code",
   "execution_count": null,
   "id": "1159e851-0240-4b33-9544-f91223ef894a",
   "metadata": {},
   "outputs": [],
   "source": []
  },
  {
   "cell_type": "markdown",
   "id": "f6d0968d",
   "metadata": {},
   "source": [
    "## Binomial Tree for Put Options"
   ]
  },
  {
   "cell_type": "code",
   "execution_count": 43,
   "id": "1d2b53a6",
   "metadata": {},
   "outputs": [],
   "source": [
    "def binomial_call_full(S_ini, K, T, r, u, d, N):\n",
    "    dt = T / N # Time step\n",
    "    p = (np.exp(r*dt) - d) / (u - d) # risk-neutral probability\n",
    "    C = np.zeros([N+1, N+1]) # Call option prices\n",
    "    S = np.zeros([N+1, N+1]) # Underlying price\n",
    "\n",
    "    for i in range(N+1):\n",
    "        C[N,i] = max(S_ini * (u**i) * (d ** (N-i))- K, 0)\n",
    "        S[N,i] = S_ini * (u**i) * (d ** (N-i))\n",
    "\n",
    "    for j in range(N-1, -1, -1):\n",
    "        for i in range(0, j+1):\n",
    "            S[j,i] = S_ini * (u**i) * (d**(j-i))\n",
    "            C[j, i] = np.exp(-r * dt) * (p * C[j+1, i+1] + (1-p) * C[j+1, i])\n",
    "    return C[0,0], C,S"
   ]
  },
  {
   "cell_type": "code",
   "execution_count": 44,
   "id": "67f7d1f0",
   "metadata": {},
   "outputs": [],
   "source": [
    "def binomial_put_full(S_ini, K, T, r, u, d, N):\n",
    "    dt = T/N\n",
    "    p = (np.exp(r * dt) - d) / (u - d) # Risk neutral prob\n",
    "    P = np.zeros([N+1,N+1]) # Put option prices\n",
    "    S = np.zeros([N+1, N+1]) # Underlying prices\n",
    "\n",
    "    for i in range(N+1):\n",
    "        S[N,i] = S_ini * (u ** i) * (d ** (N - i))\n",
    "        P[N,i] = max(K - S_ini * (u ** i) * (d ** (N-i)), 0)\n",
    "\n",
    "    for j in range(N-1, -1, -1):\n",
    "        for i in range(j+1):\n",
    "            S[j,i] = S_ini * (u ** i) * (d ** (j - i))\n",
    "            P[j,i] = np.exp(-r * dt) * (p * P[j+1, i+1] + (1 - p) * P[j+1, i])\n",
    "    return P[0,0], P, S"
   ]
  },
  {
   "cell_type": "code",
   "execution_count": 46,
   "id": "4f3c3008",
   "metadata": {},
   "outputs": [
    {
     "name": "stdout",
     "output_type": "stream",
     "text": [
      "Price at t=0 for Put Option is $ 19.38\n"
     ]
    }
   ],
   "source": [
    "# calculate price of a put\n",
    "put_price, P, S = binomial_put_full(100, 90, 10, 0, 1.2, 0.8, 10)\n",
    "print(\"Price at t=0 for Put Option is $\", \"{:.2f}\".format(put_price))"
   ]
  },
  {
   "cell_type": "markdown",
   "id": "5772f7ab",
   "metadata": {},
   "source": [
    "## Put-Call Parity"
   ]
  },
  {
   "cell_type": "markdown",
   "id": "ea6d2064",
   "metadata": {},
   "source": [
    "In condition of no-arbitrage, the price of the put and the call options must hold the following relationship.\n",
    "\n",
    "$ C_0 + Ke^{-rT} = S_0 + P_0 $"
   ]
  },
  {
   "cell_type": "markdown",
   "id": "e80e3fac",
   "metadata": {},
   "source": [
    "Let's check whether this is the case for t=0."
   ]
  },
  {
   "cell_type": "code",
   "execution_count": 47,
   "id": "8d8827a5",
   "metadata": {},
   "outputs": [
    {
     "data": {
      "text/plain": [
       "True"
      ]
     },
     "execution_count": 47,
     "metadata": {},
     "output_type": "execute_result"
    }
   ],
   "source": [
    "round(call_price + 90 * np.exp(-0 * 1), 2) == round(S[0, 0] + put_price, 2)"
   ]
  },
  {
   "cell_type": "markdown",
   "id": "a53feeb1",
   "metadata": {},
   "source": [
    "Next we increase the number of steps in the Binomial Tree and check if Put-Call Parity holds."
   ]
  },
  {
   "cell_type": "code",
   "execution_count": 48,
   "id": "91660d38",
   "metadata": {},
   "outputs": [
    {
     "name": "stdout",
     "output_type": "stream",
     "text": [
      "Price at t=0 for Put option is $ 6.50\n",
      "Price at t=0 for Call option is $ 16.50\n"
     ]
    }
   ],
   "source": [
    "put_price, P, S = binomial_put_full(100, 90, 1, 0, 1.2, 0.8, 2)\n",
    "print(\"Price at t=0 for Put option is $\", \"{:.2f}\".format(put_price))\n",
    "call_price, C, S = binomial_call_full(100, 90, 1, 0, 1.2, 0.8, 2)\n",
    "print(\"Price at t=0 for Call option is $\", \"{:.2f}\".format(call_price))"
   ]
  },
  {
   "cell_type": "markdown",
   "id": "f2d8ec04",
   "metadata": {},
   "source": [
    "Let's check put-call parity for the node following path 'd' (underlying price S_d = 80), which we can index as [1,0] in the matrix S:"
   ]
  },
  {
   "cell_type": "code",
   "execution_count": 49,
   "id": "592f2dc4",
   "metadata": {},
   "outputs": [
    {
     "data": {
      "text/plain": [
       "True"
      ]
     },
     "execution_count": 49,
     "metadata": {},
     "output_type": "execute_result"
    }
   ],
   "source": [
    "round(C[1, 0] + 90 * np.exp(-0 * 0.5), 2) == round(S[1, 0] + P[1, 0], 2)"
   ]
  },
  {
   "cell_type": "markdown",
   "id": "c0875807",
   "metadata": {},
   "source": []
  },
  {
   "cell_type": "markdown",
   "id": "0003d7be",
   "metadata": {},
   "source": [
    "## Delta Hedging"
   ]
  },
  {
   "cell_type": "markdown",
   "id": "efed8449",
   "metadata": {},
   "source": [
    "Delta: It measures change in the price of an option w.r.t. the change in the price of the underlying asset.\n",
    "One application of delta is that it is used to construct replicating portfolios that are risk-free. We can use delta as a measure to hedge the exposure of our portfolio to underlying price changes. This is known as Delta Hedging."
   ]
  },
  {
   "cell_type": "code",
   "execution_count": 50,
   "id": "2eb9be23",
   "metadata": {},
   "outputs": [],
   "source": [
    "def call_option_delta(S_ini, K, T, r, u, d, N):\n",
    "    dt = T / N # Time step\n",
    "    p = (np.exp(r * dt) - d) / (u - d) # risk-neutral probability\n",
    "    C = np.zeros([N+1, N+1]) # Call option price\n",
    "    S = np.zeros([N+1, N+1]) # Underlying price\n",
    "    Delta = np.zeros([N,N]) # Delta\n",
    "    for i in range(N+1):\n",
    "        C[N,i] = max(S_ini * (u ** i) * (d ** (N-i)) - K, 0)\n",
    "        S[N,i] = S_ini * (u ** i) * (d ** (N-i))\n",
    "    for j in range(N-1, -1, -1):\n",
    "        for i in range(j+1):\n",
    "            S[j,i] = S_ini * (u ** i) * (d ** (j-i))\n",
    "            C[j,i] = np.exp(-r * dt) * (p * C[j+1,i+1] + (1 - p) * C[j+1,i])\n",
    "            Delta[j,i] = (C[j+1,i+1] - C[j+1,i]) / (S[j+1,i+1] - S[j+1,i])\n",
    "    return C[0,0], C, S, Delta"
   ]
  },
  {
   "cell_type": "code",
   "execution_count": 51,
   "id": "07db20a4",
   "metadata": {},
   "outputs": [
    {
     "name": "stdout",
     "output_type": "stream",
     "text": [
      "Underlying: \n",
      " [[ 100.            0.            0.            0.            0.\n",
      "     0.            0.            0.            0.            0.\n",
      "     0.            0.            0.            0.            0.\n",
      "     0.        ]\n",
      " [  80.          120.            0.            0.            0.\n",
      "     0.            0.            0.            0.            0.\n",
      "     0.            0.            0.            0.            0.\n",
      "     0.        ]\n",
      " [  64.           96.          144.            0.            0.\n",
      "     0.            0.            0.            0.            0.\n",
      "     0.            0.            0.            0.            0.\n",
      "     0.        ]\n",
      " [  51.2          76.8         115.2         172.8           0.\n",
      "     0.            0.            0.            0.            0.\n",
      "     0.            0.            0.            0.            0.\n",
      "     0.        ]\n",
      " [  40.96         61.44         92.16        138.24        207.36\n",
      "     0.            0.            0.            0.            0.\n",
      "     0.            0.            0.            0.            0.\n",
      "     0.        ]\n",
      " [  32.768        49.152        73.728       110.592       165.888\n",
      "   248.832         0.            0.            0.            0.\n",
      "     0.            0.            0.            0.            0.\n",
      "     0.        ]\n",
      " [  26.2144       39.3216       58.9824       88.4736      132.7104\n",
      "   199.0656      298.5984        0.            0.            0.\n",
      "     0.            0.            0.            0.            0.\n",
      "     0.        ]\n",
      " [  20.97152      31.45728      47.18592      70.77888     106.16832\n",
      "   159.25248     238.87872     358.31808       0.            0.\n",
      "     0.            0.            0.            0.            0.\n",
      "     0.        ]\n",
      " [  16.777216     25.165824     37.748736     56.623104     84.934656\n",
      "   127.401984    191.102976    286.654464    429.981696      0.\n",
      "     0.            0.            0.            0.            0.\n",
      "     0.        ]\n",
      " [  13.4217728    20.1326592    30.1989888    45.2984832    67.9477248\n",
      "   101.9215872   152.8823808   229.3235712   343.9853568   515.9780352\n",
      "     0.            0.            0.            0.            0.\n",
      "     0.        ]\n",
      " [  10.73741824   16.10612736   24.15919104   36.23878656   54.35817984\n",
      "    81.53726976  122.30590464  183.45885696  275.18828544  412.78242816\n",
      "   619.17364224    0.            0.            0.            0.\n",
      "     0.        ]\n",
      " [   8.58993459   12.88490189   19.32735283   28.99102925   43.48654387\n",
      "    65.22981581   97.84472371  146.76708557  220.15062835  330.22594253\n",
      "   495.33891379  743.00837069    0.            0.            0.\n",
      "     0.        ]\n",
      " [   6.87194767   10.30792151   15.46188227   23.1928234    34.7892351\n",
      "    52.18385265   78.27577897  117.41366845  176.12050268  264.18075402\n",
      "   396.27113103  594.40669655  891.61004483    0.            0.\n",
      "     0.        ]\n",
      " [   5.49755814    8.24633721   12.36950581   18.55425872   27.83138808\n",
      "    41.74708212   62.62062318   93.93093476  140.89640215  211.34460322\n",
      "   317.01690483  475.52535724  713.28803586 1069.93205379    0.\n",
      "     0.        ]\n",
      " [   4.39804651    6.59706977    9.89560465   14.84340697   22.26511046\n",
      "    33.39766569   50.09649854   75.14474781  112.71712172  169.07568257\n",
      "   253.61352386  380.42028579  570.63042869  855.94564303 1283.91846455\n",
      "     0.        ]\n",
      " [   3.51843721    5.27765581    7.91648372   11.87472558   17.81208837\n",
      "    26.71813255   40.07719883   60.11579825   90.17369737  135.26054606\n",
      "   202.89081909  304.33622863  456.50434295  684.75651443 1027.13477164\n",
      "  1540.70215746]]\n",
      "Call Price: \n",
      " [[3.36896817e+01 0.00000000e+00 0.00000000e+00 0.00000000e+00\n",
      "  0.00000000e+00 0.00000000e+00 0.00000000e+00 0.00000000e+00\n",
      "  0.00000000e+00 0.00000000e+00 0.00000000e+00 0.00000000e+00\n",
      "  0.00000000e+00 0.00000000e+00 0.00000000e+00 0.00000000e+00]\n",
      " [1.98224454e+01 4.75569181e+01 0.00000000e+00 0.00000000e+00\n",
      "  0.00000000e+00 0.00000000e+00 0.00000000e+00 0.00000000e+00\n",
      "  0.00000000e+00 0.00000000e+00 0.00000000e+00 0.00000000e+00\n",
      "  0.00000000e+00 0.00000000e+00 0.00000000e+00 0.00000000e+00]\n",
      " [1.06139102e+01 2.90309806e+01 6.60828557e+01 0.00000000e+00\n",
      "  0.00000000e+00 0.00000000e+00 0.00000000e+00 0.00000000e+00\n",
      "  0.00000000e+00 0.00000000e+00 0.00000000e+00 0.00000000e+00\n",
      "  0.00000000e+00 0.00000000e+00 0.00000000e+00 0.00000000e+00]\n",
      " [4.98843591e+00 1.62393844e+01 4.18225767e+01 9.03431347e+01\n",
      "  0.00000000e+00 0.00000000e+00 0.00000000e+00 0.00000000e+00\n",
      "  0.00000000e+00 0.00000000e+00 0.00000000e+00 0.00000000e+00\n",
      "  0.00000000e+00 0.00000000e+00 0.00000000e+00 0.00000000e+00]\n",
      " [1.94049089e+00 8.03638093e+00 2.44423879e+01 5.92027655e+01\n",
      "  1.21483504e+02 0.00000000e+00 0.00000000e+00 0.00000000e+00\n",
      "  0.00000000e+00 0.00000000e+00 0.00000000e+00 0.00000000e+00\n",
      "  0.00000000e+00 0.00000000e+00 0.00000000e+00 0.00000000e+00]\n",
      " [5.59875646e-01 3.32110613e+00 1.27516557e+01 3.61331201e+01\n",
      "  8.22724110e+01 1.60694597e+02 0.00000000e+00 0.00000000e+00\n",
      "  0.00000000e+00 0.00000000e+00 0.00000000e+00 0.00000000e+00\n",
      "  0.00000000e+00 0.00000000e+00 0.00000000e+00 0.00000000e+00]\n",
      " [9.14527782e-02 1.02829851e+00 5.61391375e+00 1.98893977e+01\n",
      "  5.23768424e+01 1.12167980e+02 2.09221214e+02 0.00000000e+00\n",
      "  0.00000000e+00 0.00000000e+00 0.00000000e+00 0.00000000e+00\n",
      "  0.00000000e+00 0.00000000e+00 0.00000000e+00 0.00000000e+00]\n",
      " [6.78505363e-04 1.82227051e-01 1.87436998e+00 9.35345752e+00\n",
      "  3.04253379e+01 7.43283469e+01 1.50007612e+02 2.68434815e+02\n",
      "  0.00000000e+00 0.00000000e+00 0.00000000e+00 0.00000000e+00\n",
      "  0.00000000e+00 0.00000000e+00 0.00000000e+00 0.00000000e+00]\n",
      " [0.00000000e+00 1.35701073e-03 3.63097091e-01 3.38564286e+00\n",
      "  1.53212722e+01 4.55294036e+01 1.03127290e+02 1.96887934e+02\n",
      "  3.39981696e+02 0.00000000e+00 0.00000000e+00 0.00000000e+00\n",
      "  0.00000000e+00 0.00000000e+00 0.00000000e+00 0.00000000e+00]\n",
      " [0.00000000e+00 0.00000000e+00 2.71402145e-03 7.23480161e-01\n",
      "  6.04780556e+00 2.45947388e+01 6.64640685e+01 1.39790512e+02\n",
      "  2.53985357e+02 4.25978035e+02 0.00000000e+00 0.00000000e+00\n",
      "  0.00000000e+00 0.00000000e+00 0.00000000e+00 0.00000000e+00]\n",
      " [0.00000000e+00 0.00000000e+00 0.00000000e+00 5.42804291e-03\n",
      "  1.44153228e+00 1.06540788e+01 3.85353987e+01 9.43927383e+01\n",
      "  1.85188285e+02 3.22782428e+02 5.29173642e+02 0.00000000e+00\n",
      "  0.00000000e+00 0.00000000e+00 0.00000000e+00 0.00000000e+00]\n",
      " [0.00000000e+00 0.00000000e+00 0.00000000e+00 0.00000000e+00\n",
      "  1.08560858e-02 2.87220847e+00 1.84359492e+01 5.86348482e+01\n",
      "  1.30150628e+02 2.40225943e+02 4.05338914e+02 6.53008371e+02\n",
      "  0.00000000e+00 0.00000000e+00 0.00000000e+00 0.00000000e+00]\n",
      " [0.00000000e+00 0.00000000e+00 0.00000000e+00 0.00000000e+00\n",
      "  0.00000000e+00 2.17121716e-02 5.72270477e+00 3.11491937e+01\n",
      "  8.61205027e+01 1.74180754e+02 3.06271131e+02 5.04406697e+02\n",
      "  8.01610045e+02 0.00000000e+00 0.00000000e+00 0.00000000e+00]\n",
      " [0.00000000e+00 0.00000000e+00 0.00000000e+00 0.00000000e+00\n",
      "  0.00000000e+00 0.00000000e+00 4.34243432e-02 1.14019852e+01\n",
      "  5.08964021e+01 1.21344603e+02 2.27016905e+02 3.85525357e+02\n",
      "  6.23288036e+02 9.79932054e+02 0.00000000e+00 0.00000000e+00]\n",
      " [0.00000000e+00 0.00000000e+00 0.00000000e+00 0.00000000e+00\n",
      "  0.00000000e+00 0.00000000e+00 0.00000000e+00 8.68486865e-02\n",
      "  2.27171217e+01 7.90756826e+01 1.63613524e+02 2.90420286e+02\n",
      "  4.80630429e+02 7.65945643e+02 1.19391846e+03 0.00000000e+00]\n",
      " [0.00000000e+00 0.00000000e+00 0.00000000e+00 0.00000000e+00\n",
      "  0.00000000e+00 0.00000000e+00 0.00000000e+00 0.00000000e+00\n",
      "  1.73697373e-01 4.52605461e+01 1.12890819e+02 2.14336229e+02\n",
      "  3.66504343e+02 5.94756514e+02 9.37134772e+02 1.45070216e+03]]\n",
      "Delta: \n",
      " [[6.93361819e-01 0.00000000e+00 0.00000000e+00 0.00000000e+00\n",
      "  0.00000000e+00 0.00000000e+00 0.00000000e+00 0.00000000e+00\n",
      "  0.00000000e+00 0.00000000e+00 0.00000000e+00 0.00000000e+00\n",
      "  0.00000000e+00 0.00000000e+00 0.00000000e+00]\n",
      " [5.75533450e-01 7.71914065e-01 0.00000000e+00 0.00000000e+00\n",
      "  0.00000000e+00 0.00000000e+00 0.00000000e+00 0.00000000e+00\n",
      "  0.00000000e+00 0.00000000e+00 0.00000000e+00 0.00000000e+00\n",
      "  0.00000000e+00 0.00000000e+00 0.00000000e+00]\n",
      " [4.39490176e-01 6.66228966e-01 8.42370798e-01 0.00000000e+00\n",
      "  0.00000000e+00 0.00000000e+00 0.00000000e+00 0.00000000e+00\n",
      "  0.00000000e+00 0.00000000e+00 0.00000000e+00 0.00000000e+00\n",
      "  0.00000000e+00 0.00000000e+00 0.00000000e+00]\n",
      " [2.97650881e-01 5.34049706e-01 7.54348473e-01 9.01052348e-01\n",
      "  0.00000000e+00 0.00000000e+00 0.00000000e+00 0.00000000e+00\n",
      "  0.00000000e+00 0.00000000e+00 0.00000000e+00 0.00000000e+00\n",
      "  0.00000000e+00 0.00000000e+00 0.00000000e+00]\n",
      " [1.68532134e-01 3.83730045e-01 6.34262813e-01 8.34405580e-01\n",
      "  9.45483527e-01 0.00000000e+00 0.00000000e+00 0.00000000e+00\n",
      "  0.00000000e+00 0.00000000e+00 0.00000000e+00 0.00000000e+00\n",
      "  0.00000000e+00 0.00000000e+00 0.00000000e+00]\n",
      " [7.14756573e-02 2.33236452e-01 4.84059108e-01 7.34398616e-01\n",
      "  9.01076889e-01 9.75087952e-01 0.00000000e+00 0.00000000e+00\n",
      "  0.00000000e+00 0.00000000e+00 0.00000000e+00 0.00000000e+00\n",
      "  0.00000000e+00 0.00000000e+00 0.00000000e+00]\n",
      " [1.73138185e-02 1.07583550e-01 3.17005053e-01 5.95428478e-01\n",
      "  8.27045375e-01 9.50431232e-01 9.91525766e-01 0.00000000e+00\n",
      "  0.00000000e+00 0.00000000e+00 0.00000000e+00 0.00000000e+00\n",
      "  0.00000000e+00 0.00000000e+00 0.00000000e+00]\n",
      " [1.61768285e-04 2.87485187e-02 1.60140237e-01 4.21581597e-01\n",
      "  7.11326398e-01 9.04191359e-01 9.81257813e-01 9.98371068e-01\n",
      "  0.00000000e+00 0.00000000e+00 0.00000000e+00 0.00000000e+00\n",
      "  0.00000000e+00 0.00000000e+00 0.00000000e+00]\n",
      " [0.00000000e+00 2.69613808e-04 4.77344552e-02 2.35077425e-01\n",
      "  5.45917711e-01 8.21598856e-01 9.59253028e-01 9.95927670e-01\n",
      "  1.00000000e+00 0.00000000e+00 0.00000000e+00 0.00000000e+00\n",
      "  0.00000000e+00 0.00000000e+00 0.00000000e+00]\n",
      " [0.00000000e+00 0.00000000e+00 4.49356346e-04 7.92578545e-02\n",
      "  3.38957139e-01 6.83891426e-01 9.13403809e-01 9.89819174e-01\n",
      "  1.00000000e+00 1.00000000e+00 0.00000000e+00 0.00000000e+00\n",
      "  0.00000000e+00 0.00000000e+00 0.00000000e+00]\n",
      " [0.00000000e+00 0.00000000e+00 0.00000000e+00 7.48927244e-04\n",
      "  1.31597139e-01 4.77197139e-01 8.21687617e-01 9.74547936e-01\n",
      "  1.00000000e+00 1.00000000e+00 1.00000000e+00 0.00000000e+00\n",
      "  0.00000000e+00 0.00000000e+00 0.00000000e+00]\n",
      " [0.00000000e+00 0.00000000e+00 0.00000000e+00 0.00000000e+00\n",
      "  1.24821207e-03 2.18496424e-01 6.49664283e-01 9.36369841e-01\n",
      "  1.00000000e+00 1.00000000e+00 1.00000000e+00 1.00000000e+00\n",
      "  0.00000000e+00 0.00000000e+00 0.00000000e+00]\n",
      " [0.00000000e+00 0.00000000e+00 0.00000000e+00 0.00000000e+00\n",
      "  0.00000000e+00 2.08035345e-03 3.62773805e-01 8.40924602e-01\n",
      "  1.00000000e+00 1.00000000e+00 1.00000000e+00 1.00000000e+00\n",
      "  1.00000000e+00 0.00000000e+00 0.00000000e+00]\n",
      " [0.00000000e+00 0.00000000e+00 0.00000000e+00 0.00000000e+00\n",
      "  0.00000000e+00 0.00000000e+00 3.46725576e-03 6.02311504e-01\n",
      "  1.00000000e+00 1.00000000e+00 1.00000000e+00 1.00000000e+00\n",
      "  1.00000000e+00 1.00000000e+00 0.00000000e+00]\n",
      " [0.00000000e+00 0.00000000e+00 0.00000000e+00 0.00000000e+00\n",
      "  0.00000000e+00 0.00000000e+00 0.00000000e+00 5.77875960e-03\n",
      "  1.00000000e+00 1.00000000e+00 1.00000000e+00 1.00000000e+00\n",
      "  1.00000000e+00 1.00000000e+00 1.00000000e+00]]\n"
     ]
    }
   ],
   "source": [
    "price, call, S, delta = call_option_delta(100, 90, 15, 0, 1.2, 0.8, 15)\n",
    "print(\"Underlying: \\n\", S)\n",
    "print(\"Call Price: \\n\", call)\n",
    "print(\"Delta: \\n\", delta)"
   ]
  },
  {
   "cell_type": "markdown",
   "id": "3109c748",
   "metadata": {},
   "source": [
    "According to above results, if we want to hedge that call option sale, we need to perform the following steps:\n",
    "At t=0, we have to buy 0.675 shares.\n",
    "At t=1, we have to hold 1 share if the price rises, else we have to hold 0.1875 share in case the price falls.\n",
    "So according to delta, at different nodes we would have to rebalance our portfolio by buying additional quantities or selling some to properly hedge it."
   ]
  },
  {
   "cell_type": "markdown",
   "id": "0a5bb249",
   "metadata": {},
   "source": [
    "#### Convergence of Value of Option"
   ]
  },
  {
   "cell_type": "markdown",
   "id": "e05a5abd",
   "metadata": {},
   "source": [
    "When we increase the number of steps in the Binomial Tree method, the price of the option also increases monotonically."
   ]
  },
  {
   "cell_type": "code",
   "execution_count": 52,
   "id": "bb00c66f",
   "metadata": {},
   "outputs": [
    {
     "name": "stdout",
     "output_type": "stream",
     "text": [
      "With N =   1, the price is 15.00\n",
      "With N =  10, the price is 29.38\n",
      "With N = 100, the price is 70.32\n",
      "With N = 200, the price is 85.40\n",
      "With N = 300, the price is 92.33\n",
      "With N = 400, the price is 95.84\n",
      "With N = 500, the price is 97.70\n",
      "With N = 600, the price is 98.71\n",
      "With N = 700, the price is 99.27\n",
      "With N = 800, the price is 99.58\n",
      "With N = 900, the price is 99.76\n",
      "With N = 1000, the price is 99.86\n",
      "With N = 1500, the price is 99.99\n",
      "With N = 2000, the price is 100.00\n",
      "With N = 2500, the price is 100.00\n"
     ]
    }
   ],
   "source": [
    "price_array = []\n",
    "for N in [1, 10, 100, 200, 300, 400, 500, 600, 700, 800, 900, 1000, 1500, 2000, 2500]:\n",
    "    price, call, S, delta = call_option_delta(100, 90, 1, 0, 1.2, 0.8, N)\n",
    "    price_array.append(price)\n",
    "    print(\"With N = {:3d}, the price is {:.2f}\".format(N, price))"
   ]
  },
  {
   "cell_type": "code",
   "execution_count": 53,
   "id": "14bb2f97",
   "metadata": {},
   "outputs": [
    {
     "data": {
      "image/png": "[encoded data removed]",
      "text/plain": [
       "<Figure size 640x480 with 1 Axes>"
      ]
     },
     "metadata": {},
     "output_type": "display_data"
    }
   ],
   "source": [
    "import matplotlib.pyplot as plt\n",
    "\n",
    "N = [1, 10, 100, 200, 300, 400, 500, 600, 700, 800, 900, 1000, 1500, 2000, 2500]\n",
    "plt.plot(N, np.array(price_array))\n",
    "plt.title(\"Convergency with steps\")\n",
    "plt.xlabel(\"Number of steps (N)\")\n",
    "plt.ylabel(\"Option Price\")\n",
    "plt.grid(True)\n",
    "plt.show()"
   ]
  },
  {
   "cell_type": "markdown",
   "id": "d10a41e2",
   "metadata": {},
   "source": [
    "## Matching Volatility and Risk-measures"
   ]
  },
  {
   "cell_type": "markdown",
   "id": "5c7b2281",
   "metadata": {},
   "source": [
    "Next we'll adjust the binomial tree inputs, u and d for the volatility of the underlying asset.\n",
    "Above we saw how the price of the option converges to the price of the underlying as number of steps, N were increased. We need to have u and d such that they match the variance of the underlying."
   ]
  },
  {
   "cell_type": "markdown",
   "id": "8b4b2b8a",
   "metadata": {},
   "source": [
    "The two worlds: risk-neutral and real are different.\n",
    "When we change from one world to another: only two things changes.\n",
    "Discount Rate and\n",
    "Probability\n",
    "\n",
    "Volatility of the underlying does not change."
   ]
  },
  {
   "cell_type": "code",
   "execution_count": 54,
   "id": "e072cd08",
   "metadata": {},
   "outputs": [],
   "source": [
    "def call_option_delta(S_ini, K, T, r, sigma, N):\n",
    "    dt = T / N  # Define time step\n",
    "    u = np.exp(sigma * np.sqrt(dt))  # Define u\n",
    "    d = np.exp(-sigma * np.sqrt(dt))  # Define d\n",
    "    p = (np.exp(r * dt) - d) / (u - d)  # risk neutral probs\n",
    "    C = np.zeros([N + 1, N + 1])  # call prices\n",
    "    S = np.zeros([N + 1, N + 1])  # underlying price\n",
    "    Delta = np.zeros([N, N])  # delta\n",
    "    print(\"u:\", u)\n",
    "    print(\"d:\", d)\n",
    "    for i in range(0, N + 1):\n",
    "        C[N, i] = max(S_ini * (u ** (i)) * (d ** (N - i)) - K, 0)\n",
    "        S[N, i] = S_ini * (u ** (i)) * (d ** (N - i))\n",
    "    for j in range(N - 1, -1, -1):\n",
    "        for i in range(0, j + 1):\n",
    "            C[j, i] = np.exp(-r * dt) * (p * C[j + 1, i + 1] + (1 - p) * C[j + 1, i])\n",
    "            S[j, i] = S_ini * (u ** (i)) * (d ** (j - i))\n",
    "            Delta[j, i] = (C[j + 1, i + 1] - C[j + 1, i]) / (\n",
    "                S[j + 1, i + 1] - S[j + 1, i]\n",
    "            )\n",
    "    return C[0, 0], C, S, Delta"
   ]
  },
  {
   "cell_type": "code",
   "execution_count": 55,
   "id": "547e3c25",
   "metadata": {},
   "outputs": [
    {
     "name": "stdout",
     "output_type": "stream",
     "text": [
      "u: 1.0202013400267558\n",
      "d: 0.9801986733067553\n",
      "67.45967947506767\n"
     ]
    }
   ],
   "source": [
    "call_price, C, S, delta = call_option_delta(100, 90, 10, 0.1, 0.2, 1000)\n",
    "print(call_price)"
   ]
  },
  {
   "cell_type": "markdown",
   "id": "4cd74614",
   "metadata": {},
   "source": [
    "Now, let's see for a call option with $K=90$, $r=0\\%$, $T=1$, $\\sigma=0.3$, price is for different N's:"
   ]
  },
  {
   "cell_type": "code",
   "execution_count": 56,
   "id": "5cb1c339",
   "metadata": {},
   "outputs": [
    {
     "name": "stdout",
     "output_type": "stream",
     "text": [
      "u: 1.3498588075760032\n",
      "d: 0.7408182206817179\n",
      "With N =   1, the price is 19.14\n",
      "u: 1.099514072362268\n",
      "d: 0.9094926796630575\n",
      "With N =  10, the price is 17.26\n",
      "u: 1.030454533953517\n",
      "d: 0.9704455335485082\n",
      "With N = 100, the price is 17.02\n",
      "u: 1.0214398028992784\n",
      "d: 0.9790102139759748\n",
      "With N = 200, the price is 17.03\n",
      "u: 1.0174713778641205\n",
      "d: 0.9828286296359545\n",
      "With N = 300, the price is 17.01\n",
      "u: 1.015113064615719\n",
      "d: 0.9851119396030626\n",
      "With N = 400, the price is 17.02\n",
      "u: 1.0135068117108652\n",
      "d: 0.986673190989151\n",
      "With N = 500, the price is 17.01\n",
      "u: 1.0123227558399348\n",
      "d: 0.9878272460350745\n",
      "With N = 600, the price is 17.02\n",
      "u: 1.0114034635720641\n",
      "d: 0.9887251092340641\n",
      "With N = 700, the price is 17.02\n",
      "u: 1.0106630511200447\n",
      "d: 0.9894494499346467\n",
      "With N = 800, the price is 17.01\n",
      "u: 1.010050167084168\n",
      "d: 0.9900498337491681\n",
      "With N = 900, the price is 17.01\n",
      "u: 1.0095319756211412\n",
      "d: 0.9905580250538608\n",
      "With N = 1000, the price is 17.02\n",
      "u: 1.0077760443023145\n",
      "d: 0.9922839559976862\n",
      "With N = 1500, the price is 17.01\n",
      "u: 1.006730754328517\n",
      "d: 0.9933142458402331\n",
      "With N = 2000, the price is 17.01\n",
      "u: 1.006018036054065\n",
      "d: 0.9940179640539353\n",
      "With N = 2500, the price is 17.01\n"
     ]
    }
   ],
   "source": [
    "price_array = []\n",
    "for N in [1, 10, 100, 200, 300, 400, 500, 600, 700, 800, 900, 1000, 1500, 2000, 2500]:\n",
    "    call_price, C, S, delta = call_option_delta(100, 90, 1, 0, 0.3, N)\n",
    "    price_array.append(call_price)\n",
    "    print(\"With N = {:3d}, the price is {:.2f}\".format(N, call_price))"
   ]
  },
  {
   "cell_type": "code",
   "execution_count": 57,
   "id": "f2c3af61",
   "metadata": {},
   "outputs": [
    {
     "data": {
      "image/png": "[encoded data removed]",
      "text/plain": [
       "<Figure size 640x480 with 1 Axes>"
      ]
     },
     "metadata": {},
     "output_type": "display_data"
    }
   ],
   "source": [
    "import matplotlib.pyplot as plt\n",
    "\n",
    "N = [1, 10, 100, 200, 300, 400, 500, 600, 700, 800, 900, 1000, 1500, 2000, 2500]\n",
    "plt.plot(N, np.array(price_array))\n",
    "plt.title(\"Convergency with steps\")\n",
    "plt.xlabel(\"Number of steps (N)\")\n",
    "plt.ylabel(\"Option Price\")\n",
    "plt.grid(True)\n",
    "plt.show()"
   ]
  },
  {
   "cell_type": "markdown",
   "id": "8c78e208",
   "metadata": {},
   "source": [
    "Now the price of the call option converges to a price of $17.01"
   ]
  },
  {
   "cell_type": "markdown",
   "id": "9a091d31",
   "metadata": {},
   "source": []
  }
 ],
 "metadata": {
  "kernelspec": {
   "display_name": "Python 3 (ipykernel)",
   "language": "python",
   "name": "python3"
  },
  "language_info": {
   "codemirror_mode": {
    "name": "ipython",
    "version": 3
   },
   "file_extension": ".py",
   "mimetype": "text/x-python",
   "name": "python",
   "nbconvert_exporter": "python",
   "pygments_lexer": "ipython3",
   "version": "3.11.0"
  }
 },
 "nbformat": 4,
 "nbformat_minor": 5
}
