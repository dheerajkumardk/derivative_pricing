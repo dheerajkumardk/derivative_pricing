{
 "cells": [
  {
   "cell_type": "markdown",
   "id": "1312b964-d399-4d48-97e4-527e4f02632a",
   "metadata": {},
   "source": [
    "# American Options Payoffs"
   ]
  },
  {
   "cell_type": "markdown",
   "id": "7fdf9367-dedc-4af6-8a2b-af6c9ef57b5e",
   "metadata": {},
   "source": [
    "Unlike European Options, American options can be exercised at any time until maturity.\n",
    "\n",
    "While calculating payoffs for American options, need to consider two things:\n",
    "1. Payoff as per European-counterpart\n",
    "2. Payoff from early exercise of the option\n",
    "\n",
    "The max of the two values will be the final payoff for the American option at any time."
   ]
  },
  {
   "cell_type": "code",
   "execution_count": 1,
   "id": "89248c3d-5c62-47b7-9b42-8fcb7b7de3f6",
   "metadata": {},
   "outputs": [],
   "source": [
    "import numpy as np"
   ]
  },
  {
   "cell_type": "markdown",
   "id": "851acd7c",
   "metadata": {},
   "source": [
    "Parameters\n",
    "* S_ini - Initial Underlying value\n",
    "* K - Strike\n",
    "* T - Time to Maturity\n",
    "* r - risk-free rate\n",
    "* u - Upside movement\n",
    "* d - downward movement\n",
    "* N - Number of steps in Binomial Tree\n",
    "* opttype - Type of Option (Call or Put)"
   ]
  },
  {
   "cell_type": "markdown",
   "id": "e7f06a6c",
   "metadata": {},
   "source": [
    "The below defined function calculates price of the American option and the evolution of the underlying asset price."
   ]
  },
  {
   "cell_type": "code",
   "execution_count": 2,
   "id": "8ad70175-76ff-4962-9267-5ddd5dd4fc91",
   "metadata": {},
   "outputs": [],
   "source": [
    "def american_options(S_ini, K, T, r, u, d, N, opttype):\n",
    "    dt = T/N # Time-step\n",
    "    p = (np.exp(r * dt) - d) / (u - d) # Risk-neutral prob\n",
    "    C = np.zeros([N+1, N+1]) # Option prices\n",
    "    S = np.zeros([N+1, N+1]) # Underlying prices\n",
    "\n",
    "    for i in range(N+1):\n",
    "        S[N,i] = S_ini * (u ** i) * (d ** (N-i))\n",
    "        if opttype == \"C\":\n",
    "            C[N,i] = max(S_ini * (u ** i) * (d ** (N-i))- K, 0)\n",
    "        else:\n",
    "            C[N,i] = max(K - S_ini * (u ** i) * (d ** (N-i)), 0)\n",
    "    for j in range(N-1, -1, -1):\n",
    "        for i in range(j+1):\n",
    "            S[j,i] = S_ini * (u ** i) * (d ** (j-i))\n",
    "            C[j,i] = np.exp(-r * dt) * (\n",
    "                p * C[j+1,i+1] + (1-p) * C[j+1,i]\n",
    "            ) # Compute european option prices\n",
    "            if opttype == \"C\":\n",
    "                C[j,i] = max(\n",
    "                    C[j,i],\n",
    "                    S[j,i] - K\n",
    "                ) # decide between early exercise payoff and european option price\n",
    "            else:\n",
    "                C[j,i] = max(\n",
    "                    C[j,i],\n",
    "                    K - S[j,i]\n",
    "                )\n",
    "    return C[0,0], C, S"
   ]
  },
  {
   "cell_type": "markdown",
   "id": "d87c0ccf",
   "metadata": {},
   "source": [
    "Let's check the option price for an American call option with $S_0 = 100, K = 90, u=1.2, d=0.8,$ r=10%, $T=N=5$"
   ]
  },
  {
   "cell_type": "code",
   "execution_count": 3,
   "id": "99428470-a596-4511-8a49-c387018a1f53",
   "metadata": {},
   "outputs": [],
   "source": [
    "option_price, C, S = american_options(100, 90, 5, 0.1, 1.2, 0.8, 5, \"C\")"
   ]
  },
  {
   "cell_type": "markdown",
   "id": "56f267b2",
   "metadata": {},
   "source": [
    "The price of the call option is:"
   ]
  },
  {
   "cell_type": "code",
   "execution_count": 4,
   "id": "962e7d72-ec63-4b15-b866-bf59f7a6a148",
   "metadata": {},
   "outputs": [
    {
     "data": {
      "text/plain": [
       "46.50220504318682"
      ]
     },
     "execution_count": 4,
     "metadata": {},
     "output_type": "execute_result"
    }
   ],
   "source": [
    "option_price"
   ]
  },
  {
   "cell_type": "code",
   "execution_count": 17,
   "id": "43d1431b-47e7-4451-8e99-e94082bcc549",
   "metadata": {},
   "outputs": [
    {
     "data": {
      "text/plain": [
       "array([[ 45.        ,   0.        ,   0.        ,   0.        ,\n",
       "          0.        ,   0.        ],\n",
       "       [ 37.4985    ,  54.        ,   0.        ,   0.        ,\n",
       "          0.        ,   0.        ],\n",
       "       [ 31.24750005,  44.9982    ,  64.8       ,   0.        ,\n",
       "          0.        ,   0.        ],\n",
       "       [ 26.03854179,  37.49700006,  53.99784   ,  77.76      ,\n",
       "          0.        ,   0.        ],\n",
       "       [ 21.69791687,  31.24625015,  44.99640007,  64.797408  ,\n",
       "         93.312     ,   0.        ],\n",
       "       [ 18.08087413,  26.03750025,  37.49550018,  53.99568009,\n",
       "         77.7568896 , 111.9744    ]])"
      ]
     },
     "execution_count": 17,
     "metadata": {},
     "output_type": "execute_result"
    }
   ],
   "source": [
    "# Evolution of underlying price\n",
    "S"
   ]
  },
  {
   "cell_type": "code",
   "execution_count": null,
   "id": "7a3bb35d-14bf-42d9-ac7a-35af39f7870e",
   "metadata": {},
   "outputs": [],
   "source": []
  },
  {
   "cell_type": "code",
   "execution_count": null,
   "id": "632eaa5a-2438-4190-9ff0-3ff209803976",
   "metadata": {},
   "outputs": [],
   "source": []
  },
  {
   "cell_type": "markdown",
   "id": "db671be9-a958-45fe-b450-870f7bd21a76",
   "metadata": {},
   "source": [
    "# Matching Volatility in the American Options"
   ]
  },
  {
   "cell_type": "markdown",
   "id": "4f6ab9ea",
   "metadata": {},
   "source": [
    "Evolution of the underlying's price in above defined function doesn't considers the asset's volatility. So let's now match volatility in the pricing of the options."
   ]
  },
  {
   "cell_type": "code",
   "execution_count": 7,
   "id": "361e4e45-2cdf-4d25-addd-e721698c7859",
   "metadata": {},
   "outputs": [],
   "source": [
    "def american_option_vols(S_ini, K, T, r, sigma, N, opttype):\n",
    "    dt = T/N # Time-step\n",
    "    u = np.exp(sigma * np.sqrt(dt))\n",
    "    d = np.exp(-sigma * np.sqrt(dt))\n",
    "    p = (np.exp(r * dt) - d) / (u - d) # Risk-neutral prob\n",
    "    C = np.zeros([N+1, N+1]) # Option prices\n",
    "    S = np.zeros([N+1, N+1]) # Underlying prices\n",
    "\n",
    "    for i in range(N+1):\n",
    "        S[N,i] = S_ini * (u ** i) * (d ** (N-i))\n",
    "        if opttype == \"C\":\n",
    "            C[N,i] = max(S_ini * (u ** i) * (d ** (N-i))- K, 0)\n",
    "        else:\n",
    "            C[N,i] = max(K - S_ini * (u ** i) * (d ** (N-i)), 0)\n",
    "    for j in range(N-1, -1, -1):\n",
    "        for i in range(j+1):\n",
    "            S[j,i] = S_ini * (u ** i) * (d ** (j-i))\n",
    "            C[j,i] = np.exp(-r * dt) * (\n",
    "                p * C[j+1,i+1] + (1-p) * C[j+1,i]\n",
    "            ) # Compute european option prices\n",
    "            if opttype == \"C\":\n",
    "                C[j,i] = max(\n",
    "                    C[j,i],\n",
    "                    S[j,i] - K\n",
    "                ) # decide between early exercise payoff and european option price\n",
    "            else:\n",
    "                C[j,i] = max(\n",
    "                    C[j,i],\n",
    "                    K - S[j,i]\n",
    "                )\n",
    "    return C[0,0], C, S"
   ]
  },
  {
   "cell_type": "markdown",
   "id": "87813d87",
   "metadata": {},
   "source": [
    "Now, let's check the price of an American call with $K=90, So=100, T=N=10, \\sigma=0.3, r=0$"
   ]
  },
  {
   "cell_type": "code",
   "execution_count": 8,
   "id": "d108c190-ddb1-474d-9303-e14b93cf32c7",
   "metadata": {},
   "outputs": [
    {
     "data": {
      "text/plain": [
       "39.899240766330934"
      ]
     },
     "execution_count": 8,
     "metadata": {},
     "output_type": "execute_result"
    }
   ],
   "source": [
    "price, C, S = american_option_vols(100, 90, 10, 0, 0.3, 10, \"C\")\n",
    "price"
   ]
  },
  {
   "cell_type": "markdown",
   "id": "a096b9b2",
   "metadata": {},
   "source": [
    "Let's see what impact does the number of steps in the binomial tree have on the price of the options.\n",
    "Below we run the function for different values of N."
   ]
  },
  {
   "cell_type": "code",
   "execution_count": 9,
   "id": "8cc858bd-ef91-4e41-8132-0ef809efd308",
   "metadata": {},
   "outputs": [
    {
     "name": "stdout",
     "output_type": "stream",
     "text": [
      "With N =   1, the price is 19.14\n",
      "With N =  10, the price is 17.26\n",
      "With N = 100, the price is 17.02\n",
      "With N = 200, the price is 17.03\n",
      "With N = 300, the price is 17.01\n",
      "With N = 400, the price is 17.02\n",
      "With N = 500, the price is 17.01\n",
      "With N = 600, the price is 17.02\n",
      "With N = 700, the price is 17.02\n",
      "With N = 800, the price is 17.01\n",
      "With N = 900, the price is 17.01\n",
      "With N = 1000, the price is 17.02\n",
      "With N = 1500, the price is 17.01\n",
      "With N = 2000, the price is 17.01\n",
      "With N = 2500, the price is 17.01\n"
     ]
    }
   ],
   "source": [
    "price_array = []\n",
    "for N in [1, 10, 100, 200, 300, 400, 500, 600, 700, 800, 900, 1000, 1500, 2000, 2500]:\n",
    "    call_price, C, S = american_option_vols(100, 90, 1, 0, 0.3, N, \"C\")\n",
    "    price_array.append(call_price)\n",
    "    print(\"With N = {:3d}, the price is {:.2f}\".format(N, call_price))"
   ]
  },
  {
   "cell_type": "markdown",
   "id": "cde4eefa",
   "metadata": {},
   "source": [
    "We can see the result above, as we increase the value of N, the option prices tends to converge to the price of $17.01"
   ]
  },
  {
   "cell_type": "code",
   "execution_count": 10,
   "id": "2d9fafb2-82e3-4424-b614-746fe7313b92",
   "metadata": {},
   "outputs": [
    {
     "data": {
      "image/png": "[encoded data removed]",
      "text/plain": [
       "<Figure size 640x480 with 1 Axes>"
      ]
     },
     "metadata": {},
     "output_type": "display_data"
    }
   ],
   "source": [
    "import matplotlib.pyplot as plt\n",
    "\n",
    "N = [1, 10, 100, 200, 300, 400, 500, 600, 700, 800, 900, 1000, 1500, 2000, 2500]\n",
    "plt.plot(N, np.array(price_array))\n",
    "plt.title(\"Convergency with steps\")\n",
    "plt.xlabel(\"Number of steps (N)\")\n",
    "plt.ylabel(\"American Option Price\")\n",
    "plt.grid(True)\n",
    "plt.show()"
   ]
  },
  {
   "cell_type": "markdown",
   "id": "1791c534-f8c3-4844-865a-de1257f9d6f6",
   "metadata": {},
   "source": []
  },
  {
   "cell_type": "markdown",
   "id": "d8fa13b9",
   "metadata": {},
   "source": [
    "## Dynamic Delta Hedging"
   ]
  },
  {
   "cell_type": "markdown",
   "id": "79d1dd23",
   "metadata": {},
   "source": [
    "Delta measures how the option prices changes when underlying price moves.\n",
    "The only change we can deal here that is different from Eurpean options is the payoff for the American options.\n",
    "So, there will always be a trade-off between number of steps in the tree and dt (time-step) and the ability to continuously hedge our portfolio."
   ]
  },
  {
   "cell_type": "markdown",
   "id": "cfb4d634",
   "metadata": {},
   "source": [
    "Let's add the code to calculate delta in our function american_options."
   ]
  },
  {
   "cell_type": "code",
   "execution_count": 11,
   "id": "c7317616",
   "metadata": {},
   "outputs": [],
   "source": [
    "def american_options(S_ini, K, T, r, u, d, N, opttype):\n",
    "    dt = T/N # Time step\n",
    "    p = (np.exp(r * dt) - d) / (u - d) # risk-neutral prob\n",
    "    C = np.zeros([N+1,N+1])\n",
    "    S = np.zeros([N+1,N+1])\n",
    "    Delta = np.zeros([N,N])\n",
    "\n",
    "    for i in range(0, N + 1):\n",
    "        S[N, i] = S_ini * (u ** (i)) * (d ** (N - i))\n",
    "        if opttype == \"C\":\n",
    "            C[N, i] = max(S[N, i] - K, 0)\n",
    "        else:\n",
    "            C[N, i] = max(K - S[N, i], 0)\n",
    "\n",
    "    for j in range(N - 1, -1, -1):\n",
    "        for i in range(0, j + 1):\n",
    "            C[j, i] = np.exp(-r * dt) * (\n",
    "                p * C[j + 1, i + 1] + (1 - p) * C[j + 1, i]\n",
    "            )  # Computing the European option prices\n",
    "            S[j, i] = (\n",
    "                S_ini * (u ** (i)) * (d ** (j - i))\n",
    "            )  # Underlying evolution for each node\n",
    "            if opttype == \"C\":\n",
    "                C[j, i] = max(\n",
    "                    C[j, i], S[j, i] - K\n",
    "                )  # Decision between the European option price and the payoff from early-exercise\n",
    "            else:\n",
    "                C[j, i] = max(\n",
    "                    C[j, i], K - S[j, i]\n",
    "                )  # Decision between the European option price and the payoff from early-exercise\n",
    "\n",
    "            Delta[j,i] = (C[j+1, i+1] - C[j+1,i]) / (\n",
    "                S[j+1,i+1] - S[j+1,i]\n",
    "            ) # Delta for each node\n",
    "    return C[0,0], C, S, Delta"
   ]
  },
  {
   "cell_type": "code",
   "execution_count": 12,
   "id": "d8300319",
   "metadata": {},
   "outputs": [],
   "source": [
    "price, C, S, delta = american_options(45, 45, 5, 0, 1.2, 0.8333, 5, \"C\")"
   ]
  },
  {
   "cell_type": "code",
   "execution_count": 13,
   "id": "dc6b991a",
   "metadata": {},
   "outputs": [
    {
     "data": {
      "text/plain": [
       "7.629120614012151"
      ]
     },
     "execution_count": 13,
     "metadata": {},
     "output_type": "execute_result"
    }
   ],
   "source": [
    "price"
   ]
  },
  {
   "cell_type": "code",
   "execution_count": 14,
   "id": "10887964",
   "metadata": {},
   "outputs": [
    {
     "data": {
      "text/plain": [
       "array([[0.58474789, 0.        , 0.        , 0.        , 0.        ],\n",
       "       [0.38354414, 0.75237745, 0.        , 0.        , 0.        ],\n",
       "       [0.16223972, 0.56792023, 0.90605493, 0.        , 0.        ],\n",
       "       [0.        , 0.29740705, 0.79329378, 1.        , 0.        ],\n",
       "       [0.        , 0.        , 0.54518679, 1.        , 1.        ]])"
      ]
     },
     "execution_count": 14,
     "metadata": {},
     "output_type": "execute_result"
    }
   ],
   "source": [
    "delta"
   ]
  },
  {
   "cell_type": "markdown",
   "id": "bbf8f243",
   "metadata": {},
   "source": [
    "### Delta Hedging for European Options"
   ]
  },
  {
   "cell_type": "code",
   "execution_count": 15,
   "id": "148dcfa3",
   "metadata": {},
   "outputs": [],
   "source": [
    "def european_option(S_ini, K, T, r, u, d, N, opttype):\n",
    "    dt = T / N  # Define time step\n",
    "    p = (np.exp(r * dt) - d) / (u - d)  # risk neutral probs\n",
    "    C = np.zeros([N + 1, N + 1])  # call prices\n",
    "    S = np.zeros([N + 1, N + 1])  # underlying price\n",
    "    Delta = np.zeros([N, N])  # delta\n",
    "\n",
    "    for i in range(0, N + 1):\n",
    "        S[N, i] = S_ini * (u ** (i)) * (d ** (N - i))\n",
    "        if opttype == \"C\":\n",
    "            C[N, i] = max(S[N, i] - K, 0)\n",
    "        else:\n",
    "            C[N, i] = max(K - S[N, i], 0)\n",
    "\n",
    "    for j in range(N - 1, -1, -1):\n",
    "        for i in range(0, j + 1):\n",
    "            C[j, i] = np.exp(-r * dt) * (\n",
    "                p * C[j + 1, i + 1] + (1 - p) * C[j + 1, i]\n",
    "            )  # Computing the European option prices\n",
    "            S[j, i] = (\n",
    "                S_ini * (u ** (i)) * (d ** (j - i))\n",
    "            )  # Underlying evolution for each node\n",
    "\n",
    "            Delta[j, i] = (C[j + 1, i + 1] - C[j + 1, i]) / (\n",
    "                S[j + 1, i + 1] - S[j + 1, i]\n",
    "            )  # Computing the delta for each node\n",
    "\n",
    "    return C[0, 0], C, S, Delta"
   ]
  },
  {
   "cell_type": "code",
   "execution_count": 16,
   "id": "a2947896",
   "metadata": {},
   "outputs": [
    {
     "data": {
      "text/plain": [
       "array([[0.72579669, 0.        , 0.        , 0.        , 0.        ],\n",
       "       [0.44672292, 0.83592034, 0.        , 0.        , 0.        ],\n",
       "       [0.09194177, 0.58672101, 0.93425542, 0.        , 0.        ],\n",
       "       [0.        , 0.12822237, 0.76764645, 1.        , 0.        ],\n",
       "       [0.        , 0.        , 0.17881944, 1.        , 1.        ]])"
      ]
     },
     "execution_count": 16,
     "metadata": {},
     "output_type": "execute_result"
    }
   ],
   "source": [
    "price_euro, C_euro, S_euro, delta_euro = european_option(45, 45, 5, 0, 1.2, 0.8333, 5, \"C\")\n",
    "delta_euro"
   ]
  },
  {
   "cell_type": "code",
   "execution_count": 19,
   "id": "da34e3a6-a0af-4516-b526-1a38831d0261",
   "metadata": {},
   "outputs": [
    {
     "data": {
      "text/plain": [
       "13.37283461304853"
      ]
     },
     "execution_count": 19,
     "metadata": {},
     "output_type": "execute_result"
    }
   ],
   "source": [
    "price_euro"
   ]
  },
  {
   "cell_type": "markdown",
   "id": "656f20b3",
   "metadata": {},
   "source": [
    "For American options, delta hedging is costlier compared to European ones."
   ]
  },
  {
   "cell_type": "markdown",
   "id": "68bb34e3-dc11-4a27-b5b0-ca8632e878c9",
   "metadata": {},
   "source": [
    "So, in this notebook we understood evolution of underlying asset's price using Binomial Tree Model. We priced American options using BT. We saw how the value of the option prices behave as we increases the number of steps. Then we calculated dynamic delta at each nodes of the Binomial tree."
   ]
  },
  {
   "cell_type": "code",
   "execution_count": null,
   "id": "738ae0dd-bdba-4a86-b316-65bcb5a40e73",
   "metadata": {},
   "outputs": [],
   "source": []
  }
 ],
 "metadata": {
  "kernelspec": {
   "display_name": "Python 3 (ipykernel)",
   "language": "python",
   "name": "python3"
  },
  "language_info": {
   "codemirror_mode": {
    "name": "ipython",
    "version": 3
   },
   "file_extension": ".py",
   "mimetype": "text/x-python",
   "name": "python",
   "nbconvert_exporter": "python",
   "pygments_lexer": "ipython3",
   "version": "3.11.5"
  }
 },
 "nbformat": 4,
 "nbformat_minor": 5
}
