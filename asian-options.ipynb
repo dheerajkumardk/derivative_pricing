{
 "cells": [
  {
   "cell_type": "markdown",
   "metadata": {},
   "source": [
    "# Path Dependent Options - Asian Options"
   ]
  },
  {
   "cell_type": "markdown",
   "metadata": {},
   "source": [
    "Asian options are the path-dependent options which relies on the average price of the underlying asset over time."
   ]
  },
  {
   "cell_type": "markdown",
   "metadata": {},
   "source": [
    "Computing prices of such options is quite challenging. The reason is its path-dependent nature. We may have N terminal prices according to a Binomial Tree, but the number of paths is not the same, it will be high.\n",
    "For a binomial tree with N-steps, the total number of possible paths is $2 ^ N$."
   ]
  },
  {
   "cell_type": "markdown",
   "metadata": {},
   "source": [
    "For such systems, we use Monte-Carlo simulations to do the computations.\n",
    "MC methods use simulations and random sampling to approximate solutions to problems, particularly those with a probabilistic nature.\n",
    "\n",
    "It's difficult to compute all the paths as it would lead to higher computation costs. However, more the number of simulations, more is the accuracy of the result obtained."
   ]
  },
  {
   "cell_type": "markdown",
   "metadata": {},
   "source": [
    "So let's try to compute the price of an Asian Call Option using MC simulations."
   ]
  },
  {
   "cell_type": "code",
   "execution_count": 1,
   "metadata": {
    "vscode": {
     "languageId": "plaintext"
    }
   },
   "outputs": [],
   "source": [
    "# Import required library\n",
    "import numpy as np"
   ]
  },
  {
   "cell_type": "markdown",
   "metadata": {},
   "source": [
    "Next, let's write the function to compute option prices.\n",
    "Since we want a random path that could be followed by the underlying price. We'll use `np.random.binomial()`."
   ]
  },
  {
   "cell_type": "code",
   "execution_count": 2,
   "metadata": {
    "vscode": {
     "languageId": "plaintext"
    }
   },
   "outputs": [],
   "source": [
    "def asian_option_mc(S_ini, K, T, r, sigma, N, M):\n",
    "    dt = T/N\n",
    "    u = np.exp(sigma * np.sqrt(dt))\n",
    "    d = np.exp(-sigma * np.sqrt(dt))\n",
    "    p = (np.exp(r * dt) - d) / (u - d)\n",
    "    Asian = np.zeros([M])\n",
    "    S = np.zeros([M, N+1])\n",
    "    S[:,0] = S_ini\n",
    "\n",
    "    for j in range(M):\n",
    "        random = np.random.binomial(1, p, N+1)\n",
    "        Total = S_ini\n",
    "        for i in range(1,N+1):\n",
    "            if random[i] == 1:\n",
    "                S[j,i] = S[j,i-1] * u\n",
    "                Total = Total + S[j,i]\n",
    "            else:\n",
    "                S[j,i] = S[j,i-1] * d\n",
    "                Total = Total + S[j,i]\n",
    "                \n",
    "        Asian[j] = np.exp(-r * T) * max(Total / (N + 1)- K, 0)\n",
    "    return S, Asian"
   ]
  },
  {
   "cell_type": "markdown",
   "metadata": {},
   "source": [
    "`random = np.random.binomial(1, p, N + 1)` generates a sequence of random path. The reason we are using `binomial` here is because it deals in two outputs: Success or failure.\n",
    "Our underlying asset has too directions at any point of time: either go up or go down. `p` is the probability of upside movement and `N + 1` is the number of time steps wich we are simulating."
   ]
  },
  {
   "cell_type": "markdown",
   "metadata": {},
   "source": [
    "Now running the above function to compute the price of an call option."
   ]
  },
  {
   "cell_type": "markdown",
   "metadata": {},
   "source": [
    "Let $S_0 = 100, K = 90, T = 1, r = 0, \\sigma = 0.3, N = 2500, M = 10000$,\n",
    "where M = Number of simulations or the number of paths for which we calculate the option price."
   ]
  },
  {
   "cell_type": "code",
   "execution_count": 4,
   "metadata": {
    "vscode": {
     "languageId": "plaintext"
    }
   },
   "outputs": [],
   "source": [
    "S, Asian = asian_option_mc(100, 90, 1, 0, 0.3, 2500, 10000)"
   ]
  },
  {
   "cell_type": "markdown",
   "metadata": {},
   "source": [
    "We'll take the mean of all option prices to get a closer value."
   ]
  },
  {
   "cell_type": "code",
   "execution_count": 5,
   "metadata": {
    "vscode": {
     "languageId": "plaintext"
    }
   },
   "outputs": [
    {
     "name": "stdout",
     "output_type": "stream",
     "text": [
      "12.671418351807892\n"
     ]
    }
   ],
   "source": [
    "print(np.mean(Asian))"
   ]
  },
  {
   "cell_type": "markdown",
   "metadata": {},
   "source": [
    "Next, let's perform multiple simulations together and see what the value comes in for the option price"
   ]
  },
  {
   "cell_type": "code",
   "execution_count": 6,
   "metadata": {
    "vscode": {
     "languageId": "plaintext"
    }
   },
   "outputs": [],
   "source": [
    "M = np.arange(1000, 16000, 1000)\n",
    "asian_price = []"
   ]
  },
  {
   "cell_type": "markdown",
   "metadata": {},
   "source": [
    "Let's run the function for different simulations together"
   ]
  },
  {
   "cell_type": "code",
   "execution_count": 7,
   "metadata": {
    "vscode": {
     "languageId": "plaintext"
    }
   },
   "outputs": [],
   "source": [
    "for i in range(len(M)):\n",
    "    S, Asian = asian_option_mc(100, 90, 1, 0, 0.3, 2500, M[i])\n",
    "    asian_price.append(np.mean(Asian))"
   ]
  },
  {
   "cell_type": "markdown",
   "metadata": {},
   "source": [
    "Let's print the values we got for the call option through different simulations"
   ]
  },
  {
   "cell_type": "code",
   "execution_count": 8,
   "metadata": {},
   "outputs": [
    {
     "data": {
      "text/plain": [
       "[12.178199163712613,\n",
       " 12.92289876060201,\n",
       " 12.29594579336966,\n",
       " 12.40583844532056,\n",
       " 12.725384437424879,\n",
       " 12.426017508630814,\n",
       " 12.697095160084352,\n",
       " 12.711473907900922,\n",
       " 12.66218489382058,\n",
       " 12.566271574378622,\n",
       " 12.700596422649179,\n",
       " 12.710956618119331,\n",
       " 12.634631893118858,\n",
       " 12.482948299439412,\n",
       " 12.585168414112138]"
      ]
     },
     "execution_count": 8,
     "metadata": {},
     "output_type": "execute_result"
    }
   ],
   "source": [
    "asian_price"
   ]
  },
  {
   "cell_type": "markdown",
   "metadata": {},
   "source": [
    "Let's plot these value against number of simulations."
   ]
  },
  {
   "cell_type": "code",
   "execution_count": 10,
   "metadata": {},
   "outputs": [],
   "source": [
    "import matplotlib.pyplot as plt"
   ]
  },
  {
   "cell_type": "code",
   "execution_count": 11,
   "metadata": {
    "vscode": {
     "languageId": "plaintext"
    }
   },
   "outputs": [
    {
     "data": {
      "image/png": "[encoded data removed]",
      "text/plain": [
       "<Figure size 640x480 with 1 Axes>"
      ]
     },
     "metadata": {},
     "output_type": "display_data"
    }
   ],
   "source": [
    "plt.plot(M, asian_price)\n",
    "plt.ylim([10, 15])\n",
    "plt.title(\"MC estimates for different number of simulations\")\n",
    "plt.xlabel(\"Number of simulations\")\n",
    "plt.ylabel(\"Asian option prices\")\n",
    "plt.grid(True)\n",
    "plt.show()"
   ]
  },
  {
   "cell_type": "markdown",
   "metadata": {},
   "source": [
    "As you can see above, if we increase the number of simulations, our accuracy tends to increase and the option prices start to settle around some value."
   ]
  },
  {
   "cell_type": "code",
   "execution_count": null,
   "metadata": {},
   "outputs": [],
   "source": []
  }
 ],
 "metadata": {
  "kernelspec": {
   "display_name": "Python 3 (ipykernel)",
   "language": "python",
   "name": "python3"
  },
  "language_info": {
   "codemirror_mode": {
    "name": "ipython",
    "version": 3
   },
   "file_extension": ".py",
   "mimetype": "text/x-python",
   "name": "python",
   "nbconvert_exporter": "python",
   "pygments_lexer": "ipython3",
   "version": "3.11.5"
  }
 },
 "nbformat": 4,
 "nbformat_minor": 4
}
